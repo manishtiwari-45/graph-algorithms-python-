{
 "cells": [
  {
   "cell_type": "markdown",
   "id": "fb04b9f5",
   "metadata": {},
   "source": [
    "\n",
    "# 📘 Graphs and Trees\n",
    "\n",
    "This notebook contains simple and manually-explained Python code implementations for basic graph and tree-related problems.  \n",
    "Designed like a tutorial for students, each section starts with a clear explanation followed by well-commented code.\n"
   ]
  },
  {
   "cell_type": "markdown",
   "id": "54cd9cda",
   "metadata": {},
   "source": [
    "## Graph Assignment Questions"
   ]
  },
  {
   "cell_type": "markdown",
   "id": "3637d41d",
   "metadata": {},
   "source": [
    "Representation"
   ]
  },
  {
   "cell_type": "code",
   "execution_count": null,
   "id": "ba58fd8a",
   "metadata": {},
   "outputs": [],
   "source": [
    "# List of all nodes present in the graph\n",
    "node_list = ['A', 'B', 'C', 'D', 'E', 'F']\n",
    "\n",
    "# Graph representation using Adjacency List\n",
    "# Each key is a node, and its value is the list of neighbors it's directly connected to\n",
    "AdjList = {\n",
    "    'A': ['B', 'D', 'E'],\n",
    "    'B': ['A', 'D', 'C'],\n",
    "    'C': ['B', 'D'],\n",
    "    'D': ['A', 'B', 'C', 'E'],\n",
    "    'E': ['A', 'D', 'F'],\n",
    "    'F': ['E']\n",
    "}\n",
    "\n",
    "# Graph representation using Adjacency Matrix\n",
    "# A 2D matrix where 1 represents an edge between nodes and 0 means no edge\n",
    "adjMat = [\n",
    "    [0, 1, 0, 1, 1, 0],  # Connections for A\n",
    "    [1, 0, 1, 1, 0, 0],  # Connections for B\n",
    "    [0, 1, 0, 1, 0, 0],  # Connections for C\n",
    "    [1, 1, 1, 0, 1, 0],  # Connections for D\n",
    "    [1, 0, 0, 1, 0, 1],  # Connections for E\n",
    "    [0, 0, 0, 0, 1, 0]   # Connections for F\n",
    "]\n",
    "\n",
    "# Graph representation using Edge List\n",
    "# Each tuple represents an edge between two nodes\n",
    "EdgeList = [('A', 'B'), ('A', 'D'), ('A', 'E'), ('B', 'D'), ('B', 'C'),\n",
    "            ('C', 'D'), ('D', 'E'), ('E', 'F')]\n"
   ]
  },
  {
   "cell_type": "markdown",
   "id": "9cdfc9c7",
   "metadata": {},
   "source": [
    "## Find the degree of each vertex and sort them by degree.\n",
    "\n",
    "We are given a graph of any form.\n",
    "Calculate the degree for each node.\n",
    "Store the result in a dictionary.\n",
    "Sort the dictionary by values in increasing order."
   ]
  },
  {
   "cell_type": "code",
   "execution_count": null,
   "id": "213c5d44",
   "metadata": {},
   "outputs": [
    {
     "data": {
      "text/plain": [
       "{'F': 1, 'C': 2, 'A': 3, 'E': 3, 'B': 3, 'D': 4}"
      ]
     },
     "execution_count": 2,
     "metadata": {},
     "output_type": "execute_result"
    }
   ],
   "source": [
    "# Function to calculate the degree of each node in a graph\n",
    "# Works for all three representations: Adjacency List, Adjacency Matrix, and Edge List\n",
    "def node_degree(L):\n",
    "    deg_dict = {}  # Dictionary to store node and its degree\n",
    "    \n",
    "    # If input is an Adjacency List (dictionary type)\n",
    "    if type(L) == dict:\n",
    "        for i in L:\n",
    "            deg_dict[i] = len(L[i])  # Degree is the number of neighbors\n",
    "    \n",
    "    # If input is an Adjacency Matrix (list of lists)\n",
    "    elif type(L) == list and type(L[0]) == list:\n",
    "        for i in range(len(L)):\n",
    "            count = 0\n",
    "            for j in range(len(L[i])):\n",
    "                if L[i][j] == 1:\n",
    "                    count += 1  # Count number of 1s in the row\n",
    "            deg_dict[node_list[i]] = count  # Assign degree to corresponding node\n",
    "\n",
    "    # If input is an Edge List (list of tuples)\n",
    "    elif type(L) == list and type(L[0]) == tuple:\n",
    "        for node in node_list:\n",
    "            deg_dict[node] = 0  # Initialize degree of all nodes to 0\n",
    "        for i in range(len(L)):\n",
    "            u = L[i][0]\n",
    "            v = L[i][1]\n",
    "            deg_dict[u] += 1  # Each edge increases degree of both nodes\n",
    "            deg_dict[v] += 1\n",
    "\n",
    "    return manual_sort(deg_dict)  # Sort degrees and return\n",
    "\n",
    "# Function to sort the dictionary of degrees in ascending order using bubble sort\n",
    "def manual_sort(deg_dict):\n",
    "    keys = []\n",
    "    values = []\n",
    "\n",
    "    # Separate keys and values\n",
    "    for i in deg_dict:\n",
    "        keys.append(i)\n",
    "        values.append(deg_dict[i])\n",
    "\n",
    "    # Bubble sort based on values\n",
    "    for i in range(len(values)):\n",
    "        for j in range(i+1, len(values)):\n",
    "            if values[i] > values[j]:\n",
    "                # Swap values\n",
    "                temp = values[i]\n",
    "                values[i] = values[j]\n",
    "                values[j] = temp\n",
    "\n",
    "                # Swap corresponding keys\n",
    "                temp_key = keys[i]\n",
    "                keys[i] = keys[j]\n",
    "                keys[j] = temp_key\n",
    "\n",
    "    # Create sorted dictionary\n",
    "    sorted_deg = {}\n",
    "    for i in range(len(keys)):\n",
    "        sorted_deg[keys[i]] = values[i]\n",
    "\n",
    "    return sorted_deg\n",
    "\n",
    "# Example: calculating degree using adjacency matrix\n",
    "node_degree(adjMat)\n"
   ]
  },
  {
   "cell_type": "markdown",
   "id": "26b9eb72",
   "metadata": {},
   "source": [
    "## Graph Representation Inter-Conversion\n",
    "We manually convert between the three common graph representations:\n",
    "1. **Adjacency List → Adjacency Matrix**\n",
    "2. **Adjacency Matrix → Edge List**\n",
    "3. **Edge List → Adjacency List**\n",
    "\n",
    "We will use **only 2 functions** to perform all necessary conversions.\n",
    "This helps in understanding how data structures can represent the same graph in different ways."
   ]
  },
  {
   "cell_type": "code",
   "execution_count": null,
   "id": "4b97ec1d",
   "metadata": {},
   "outputs": [],
   "source": [
    "# Function to convert Adjacency List to Adjacency Matrix and Edge List\n",
    "def AdjList_to_other(adjList, node_list):\n",
    "    n = len(node_list)  # Total number of nodes\n",
    "\n",
    "    # Initialize empty Adjacency Matrix with 0s\n",
    "    adjMat = []\n",
    "    for i in range(n):\n",
    "        row = []\n",
    "        for j in range(n):\n",
    "            row.append(0)\n",
    "        adjMat.append(row)\n",
    "\n",
    "    edgeList = []  # Initialize empty Edge List\n",
    "\n",
    "    # Fill Adjacency Matrix and create Edge List\n",
    "    for u in adjList:\n",
    "        for v in adjList[u]:\n",
    "            i = node_list.index(u)\n",
    "            j = node_list.index(v)\n",
    "            adjMat[i][j] = 1  # Mark edge in the matrix\n",
    "\n",
    "            # Avoid adding duplicate edges (undirected)\n",
    "            if (v, u) not in edgeList:\n",
    "                edgeList.append((u, v))\n",
    "\n",
    "    return adjMat, edgeList  # Return both representations\n",
    "\n",
    "\n",
    "# Function to convert Adjacency Matrix or Edge List to Adjacency List\n",
    "def other_to_AdjList(data, node_list):\n",
    "    adjList = {}  # Initialize empty Adjacency List\n",
    "    for node in node_list:\n",
    "        adjList[node] = []\n",
    "\n",
    "    # If input is Adjacency Matrix\n",
    "    if type(data[0]) == list:\n",
    "        for i in range(len(data)):\n",
    "            for j in range(len(data[i])):\n",
    "                if data[i][j] == 1:\n",
    "                    u = node_list[i]\n",
    "                    v = node_list[j]\n",
    "                    if v not in adjList[u]:  # Avoid duplicates\n",
    "                        adjList[u].append(v)\n",
    "\n",
    "    # If input is Edge List\n",
    "    elif type(data[0]) == tuple:\n",
    "        for i in range(len(data)):\n",
    "            u = data[i][0]\n",
    "            v = data[i][1]\n",
    "            adjList[u].append(v)\n",
    "            adjList[v].append(u)  # Since graph is undirected\n",
    "\n",
    "    return adjList  # Return the converted Adjacency List\n",
    "\n",
    "\n",
    "# Sample node list and Adjacency List for testing\n",
    "node_list = ['a', 'b', 'c', 'd', 'e', 'f']\n",
    "\n",
    "AdjList = {\n",
    "    'a': ['b', 'd', 'e'],\n",
    "    'b': ['a', 'd', 'c'],\n",
    "    'c': ['b', 'd'],\n",
    "    'd': ['a', 'b', 'c', 'e'],\n",
    "    'e': ['a', 'd', 'f'],\n",
    "    'f': ['e']\n",
    "}\n"
   ]
  },
  {
   "cell_type": "markdown",
   "id": "d5c13d16",
   "metadata": {},
   "source": [
    "###  Check if Two Vertices Are Adjacent (Adjacency List)\n",
    "We check if **v2** exists in the neighbor list of **v1** using a simple loop.\n"
   ]
  },
  {
   "cell_type": "code",
   "execution_count": null,
   "id": "770add42",
   "metadata": {},
   "outputs": [
    {
     "name": "stdout",
     "output_type": "stream",
     "text": [
      "False\n",
      "True\n"
     ]
    }
   ],
   "source": [
    "# List of nodes\n",
    "node_list = ['a', 'b', 'c', 'd', 'e', 'f']\n",
    "\n",
    "# Adjacency List representation of graph\n",
    "AdjList = {\n",
    "    'a': ['b', 'd', 'e'],\n",
    "    'b': ['a', 'd', 'c'],\n",
    "    'c': ['b', 'd'],\n",
    "    'd': ['a', 'b', 'c', 'e'],\n",
    "    'e': ['a', 'd', 'f'],\n",
    "    'f': ['e']\n",
    "}\n",
    "\n",
    "# Function to check if two nodes are adjacent (directly connected)\n",
    "def is_adjacent(graph, v1, v2):\n",
    "    if v1 in graph:\n",
    "        for neighbor in graph[v1]:\n",
    "            if neighbor == v2:\n",
    "                return True  # If v2 is found in v1's neighbors, they are adjacent\n",
    "    return False  # Otherwise, not adjacent\n",
    "\n",
    "# Test cases\n",
    "print(is_adjacent(AdjList, 'a', 'c'))  # Output: False (no edge between a and c)\n",
    "print(is_adjacent(AdjList, 'a', 'b'))  # Output: True (edge exists between a and b)\n"
   ]
  },
  {
   "cell_type": "markdown",
   "id": "f646edd9",
   "metadata": {},
   "source": [
    "### Check if a Graph is Complete\n",
    "\n",
    "A graph is **complete** if every node is connected to all other nodes.\n",
    "In Adjacency List representation, this means:\n",
    "\n",
    "Each node should have exactly (**n-1**) neighbors (where **n** = number of nodes)."
   ]
  },
  {
   "cell_type": "code",
   "execution_count": 14,
   "id": "1fd25875",
   "metadata": {},
   "outputs": [
    {
     "name": "stdout",
     "output_type": "stream",
     "text": [
      "Is the graph complete? : False\n"
     ]
    }
   ],
   "source": [
    "# Function to check if the given graph is a complete graph\n",
    "# A complete graph is one where each node is connected to every other node\n",
    "\n",
    "def complete_graph(graph, node_list):\n",
    "    for node in node_list:\n",
    "        # Each node should have exactly (n - 1) neighbors in a complete graph\n",
    "        if node not in graph or len(graph[node]) != len(node_list) - 1:\n",
    "            return False\n",
    "    return True\n",
    "\n",
    "# Test case 1: Given graph is not complete\n",
    "node_list = ['a', 'b', 'c', 'd', 'e', 'f']\n",
    "AdjList = {\n",
    "    'a': ['b', 'd', 'e'],\n",
    "    'b': ['a', 'd', 'c'],\n",
    "    'c': ['b', 'd'],\n",
    "    'd': ['a', 'b', 'c', 'e'],\n",
    "    'e': ['a', 'd', 'f'],\n",
    "    'f': ['e']\n",
    "}\n",
    "\n",
    "print(\"Is the graph complete? :\", complete_graph(AdjList, node_list))  # Output: False\n"
   ]
  },
  {
   "cell_type": "markdown",
   "id": "a875647b",
   "metadata": {},
   "source": [
    "### Check if givem graph is Connected.\n",
    "A graph is said to be connected if there is a path between every pair of vertices.  \n",
    "The below function uses DFS to visit all reachable nodes from the starting vertex.  \n",
    "If all nodes are visited, the graph is connected.\n"
   ]
  },
  {
   "cell_type": "code",
   "execution_count": 6,
   "id": "8bf30d0e",
   "metadata": {},
   "outputs": [
    {
     "name": "stdout",
     "output_type": "stream",
     "text": [
      "True\n"
     ]
    }
   ],
   "source": [
    "from collections import deque\n",
    "\n",
    "def is_connected(graph, node_list):\n",
    "    visited = []\n",
    "    Q = deque()\n",
    "    Q.append(node_list[0])\n",
    "    visited.append(node_list[0])\n",
    "\n",
    "    while Q:\n",
    "        node = Q.popleft()\n",
    "        if node in graph:\n",
    "            for neighbor in graph[node]:\n",
    "                if neighbor not in visited:\n",
    "                    visited.append(neighbor)\n",
    "                    Q.append(neighbor)\n",
    "\n",
    "    return len(visited) == len(node_list)\n",
    "\n",
    "\n",
    "\n",
    "node_list = ['a', 'b', 'c', 'd', 'e', 'f']\n",
    "AdjList = {\n",
    "    'a': ['b', 'd', 'e'],\n",
    "    'b': ['a', 'd', 'c'],\n",
    "    'c': ['b', 'd'],\n",
    "    'd': ['a', 'b', 'c', 'e'],\n",
    "    'e': ['a', 'd', 'f'],\n",
    "    'f': ['e']\n",
    "}\n",
    "\n",
    "print(is_connected(AdjList, node_list)) \n"
   ]
  },
  {
   "cell_type": "markdown",
   "id": "cae6999c",
   "metadata": {},
   "source": [
    "## Given a graph and a list of vertices, check if it forms a walk, or a trail or a path or none of these.\n",
    "\n",
    "Given a graph and a list of vertices, we classify them as:\n",
    "- **Walk**: Vertices are connected.\n",
    "- **Trail**: No repeated edges.\n",
    "- **Path**: No repeated vertices."
   ]
  },
  {
   "cell_type": "code",
   "execution_count": null,
   "id": "4ff8b6e6",
   "metadata": {},
   "outputs": [
    {
     "name": "stdout",
     "output_type": "stream",
     "text": [
      "Is the graph connected? : True\n"
     ]
    }
   ],
   "source": [
    "def check_type(graph, seq):\n",
    "    edges = []\n",
    "    visited = []\n",
    "\n",
    "    for i in range(len(seq) - 1):\n",
    "        u, v = seq[i], seq[i + 1]\n",
    "        if u not in graph or v not in graph[u]:\n",
    "            return \"NOTA\"\n",
    "        \n",
    "        edge = [u, v]\n",
    "        reverse_edge = [v, u]\n",
    "\n",
    "        if edge in edges or reverse_edge in edges:\n",
    "            return \"WALK\"\n",
    "        \n",
    "        edges.append(edge)\n",
    "\n",
    "        visited.append(u)\n",
    "        if v in visited:\n",
    "            return \"TRAIL\"\n",
    "\n",
    "    return \"PATH\"\n",
    "\n",
    "print(check_type(AdjList, ['a', 'c', 'e', 'f']))        \n",
    "print(check_type(AdjList, ['a', 'b', 'd', 'e', 'f']))  \n",
    "print(check_type(AdjList, ['a', 'b', 'd', 'b', 'c']))   \n",
    "print(check_type(AdjList, ['a', 'b', 'd', 'b', 'a']))  "
   ]
  },
  {
   "cell_type": "markdown",
   "id": "f9e09347",
   "metadata": {},
   "source": [
    "## Check if a graph is a tree:\n",
    "\n",
    "**A graph is a tree if**:\n",
    "1. It has exactly (**n-1**) edges.\n",
    "2. It is connected.\n",
    "3. It contains no cycles.\n"
   ]
  },
  {
   "cell_type": "code",
   "execution_count": 16,
   "id": "0a0bdc17",
   "metadata": {},
   "outputs": [
    {
     "name": "stdout",
     "output_type": "stream",
     "text": [
      "Is the graph a tree? True\n",
      "Is the graph a tree? False\n"
     ]
    }
   ],
   "source": [
    "# Function to check if the graph is a tree\n",
    "# A graph is a tree if:\n",
    "# 1. It has exactly n-1 edges for n nodes\n",
    "# 2. It is fully connected (no disconnected parts)\n",
    "# 3. It has no cycles\n",
    "\n",
    "def is_tree(n, edges):\n",
    "    # Tree must have exactly n-1 edges\n",
    "    if len(edges) != n - 1:\n",
    "        return False\n",
    "\n",
    "    # Creating adjacency list\n",
    "    adj = [[] for _ in range(n)]\n",
    "    for u, v in edges:\n",
    "        adj[u].append(v)\n",
    "        adj[v].append(u)\n",
    "\n",
    "    visited = [0] * n\n",
    "\n",
    "    # DFS function to detect cycle\n",
    "    def explore(node, parent):\n",
    "        visited[node] = 1\n",
    "        for neighbour in adj[node]:\n",
    "            if visited[neighbour] == 0:\n",
    "                if not explore(neighbour, node):\n",
    "                    return False\n",
    "            elif neighbour != parent:\n",
    "                return False  # Cycle detected\n",
    "        return True\n",
    "\n",
    "    # Start DFS from node 0\n",
    "    if not explore(0, -1):\n",
    "        return False\n",
    "\n",
    "    # If any node remains unvisited, the graph is disconnected\n",
    "    if any(v == 0 for v in visited):\n",
    "        return False\n",
    "\n",
    "    return True\n",
    "\n",
    "\n",
    "# ✅ Test Case 1: Valid Tree\n",
    "edges1 = [(0, 1), (0, 2), (1, 3), (1, 4)]\n",
    "n1 = 5\n",
    "print(\"Is the graph a tree?\", is_tree(n1, edges1))  # Output: True\n",
    "\n",
    "# ❌ Test Case 2: Graph with a cycle\n",
    "edges2 = [(0, 1), (1, 2), (2, 0), (1, 3)]\n",
    "n2 = 4\n",
    "print(\"Is the graph a tree?\", is_tree(n2, edges2))  # Output: False"
   ]
  },
  {
   "cell_type": "markdown",
   "id": "1b61562d",
   "metadata": {},
   "source": [
    "##  Find Spanning Tree of a Connected Cyclic Graph\n",
    "\n",
    "A **spanning tree** of a connected cyclic graph is a subgraph that:\n",
    "\n",
    "1. Includes **all the vertices** of the original graph.\n",
    "2. Is **connected**.\n",
    "3. Has **no cycles**.\n",
    "4. Has exactly **n - 1 edges**, where **n** is the number of vertices."
   ]
  },
  {
   "cell_type": "code",
   "execution_count": 21,
   "id": "1eee0507",
   "metadata": {},
   "outputs": [
    {
     "name": "stdout",
     "output_type": "stream",
     "text": [
      "Spanning Tree Edges:\n",
      "(0, 1)\n",
      "(1, 2)\n",
      "(1, 3)\n",
      "(3, 4)\n"
     ]
    }
   ],
   "source": [
    "# Function to generate a spanning tree from a connected graph using DFS\n",
    "# A spanning tree connects all nodes with minimum possible edges (n - 1 edges for n nodes)\n",
    "\n",
    "def spanning_tree(n, edges):\n",
    "    # Creating adjacency list\n",
    "    adj = [[] for _ in range(n)]\n",
    "    for u, v in edges:\n",
    "        adj[u].append(v)\n",
    "        adj[v].append(u)\n",
    "\n",
    "    visited = [0] * n\n",
    "    tree_edges = []\n",
    "\n",
    "    # DFS to explore nodes and build tree\n",
    "    def explore(node):\n",
    "        visited[node] = 1\n",
    "        for neighbour in adj[node]:\n",
    "            if visited[neighbour] == 0:\n",
    "                tree_edges.append((node, neighbour))\n",
    "                explore(neighbour)\n",
    "\n",
    "    # Start DFS from node 0\n",
    "    explore(0)\n",
    "\n",
    "    return tree_edges\n",
    "\n",
    "\n",
    "# ✅ Test Case 1: Connected graph with extra edges\n",
    "edges1 = [(0, 1), (0, 2), (1, 2), (1, 3), (3, 4)]\n",
    "n1 = 5\n",
    "tree1 = spanning_tree(n1, edges1)\n",
    "\n",
    "print(\"Spanning Tree Edges:\")\n",
    "for edge in tree1:\n",
    "    print(edge)\n",
    "# Output: Should contain 4 edges connecting all 5 nodes"
   ]
  },
  {
   "cell_type": "markdown",
   "id": "509c09e0",
   "metadata": {},
   "source": [
    "## Given a tree, find the number of leaf nodes.\n",
    "\n",
    "A leaf node is a node with only one connected edge (i.e., degree = 1), except for the case where the tree has only one node"
   ]
  },
  {
   "cell_type": "code",
   "execution_count": null,
   "id": "66021bc7",
   "metadata": {},
   "outputs": [
    {
     "name": "stdout",
     "output_type": "stream",
     "text": [
      "Leaf nodes: 3\n"
     ]
    }
   ],
   "source": [
    "# Function to count the number of leaf nodes in an undirected graph\n",
    "# A leaf node is defined as a node with degree 1 (i.e., connected to only one other node)\n",
    "\n",
    "def count_leaf_nodes(n, edges):\n",
    "    # Step 1: Create an adjacency matrix of size n x n initialized with 0\n",
    "    adj = []\n",
    "    for i in range(n):\n",
    "        temp = []\n",
    "        for j in range(n):\n",
    "            temp.append(0)\n",
    "        adj.append(temp)\n",
    "    \n",
    "    # Step 2: Fill the adjacency matrix with edges\n",
    "    for u, v in edges:\n",
    "        adj[u][v] = 1\n",
    "        adj[v][u] = 1\n",
    "\n",
    "    # Step 3: Count nodes with degree 1 (leaf nodes)\n",
    "    leaf_count = 0\n",
    "    for i in range(n):\n",
    "        degree = 0\n",
    "        for j in range(n):\n",
    "            if adj[i][j] == 1:\n",
    "                degree += 1\n",
    "        # Leaf condition: degree = 1\n",
    "        # Also handle single isolated node case: n == 1 and degree == 0\n",
    "        if degree == 1 or (n == 1 and degree == 0):\n",
    "            leaf_count += 1\n",
    "\n",
    "    return leaf_count\n",
    "\n",
    "\n",
    "# ✅ Test Case \n",
    "n = 5\n",
    "edges = [(0, 1), (0, 2), (1, 3), (1, 4)]\n",
    "# Leaf nodes: 2, 3, 4 → Total = 3\n",
    "print(\"Leaf nodes:\", count_leaf_nodes(n, edges))\n"
   ]
  },
  {
   "cell_type": "markdown",
   "id": "6d581995",
   "metadata": {},
   "source": [
    "## Given a tree, check whether it satisfies the property of a binary tree\n",
    "\n",
    "A binary tree is a tree where each node has at most 2 children."
   ]
  },
  {
   "cell_type": "code",
   "execution_count": null,
   "id": "06ec5f87",
   "metadata": {},
   "outputs": [
    {
     "name": "stdout",
     "output_type": "stream",
     "text": [
      "Yes, it is a binary tree.\n"
     ]
    }
   ],
   "source": [
    "# Function to check if the given undirected graph can represent a Binary Tree\n",
    "# In a binary tree:\n",
    "# - Root node (assumed as node 0 here) has at most 2 children → degree ≤ 2\n",
    "# - Other nodes can have 1 parent and up to 2 children → degree ≤ 3\n",
    "\n",
    "def is_binary_tree(n, edges):\n",
    "    # Step 1: Create an adjacency list\n",
    "    adj = []\n",
    "    for i in range(n):\n",
    "        temp = []\n",
    "        adj.append(temp)\n",
    "\n",
    "    # Step 2: Fill the adjacency list with undirected edges\n",
    "    for e in edges:\n",
    "        u = e[0]\n",
    "        v = e[1]\n",
    "        adj[u].append(v)\n",
    "        adj[v].append(u)\n",
    "\n",
    "    # Step 3: Check degree condition for binary tree\n",
    "    for i in range(n):\n",
    "        count = 0\n",
    "        for j in range(len(adj[i])):\n",
    "            count += 1\n",
    "        # For root (assumed node 0), max 2 neighbors\n",
    "        if i == 0:\n",
    "            if count > 2:\n",
    "                return False\n",
    "        else:\n",
    "            # Other nodes can have at most 3 neighbors (1 parent + 2 children)\n",
    "            if count > 3:\n",
    "                return False\n",
    "\n",
    "    return True\n",
    "\n",
    "\n",
    "# ✅ Test Case 1 (Valid Binary Tree)\n",
    "edges1 = [(0, 1), (0, 2), (1, 3), (1, 4)]\n",
    "n1 = 5\n",
    "# All degrees valid → It's a binary tree\n",
    "print(\"Yes\" if is_binary_tree(n1, edges1) else \"No\")"
   ]
  },
  {
   "cell_type": "markdown",
   "id": "ea42c8bf",
   "metadata": {},
   "source": [
    "## Find the Height of a Tree\n",
    "\n",
    "The **height of a tree** is defined as the length of the longest path from the **root** node to any **leaf** node.  \n",
    "In this problem, we will calculate the height using **recursion**, considering that the **height of a leaf node is 0**.\n",
    "\n"
   ]
  },
  {
   "cell_type": "code",
   "execution_count": 22,
   "id": "50a9f162",
   "metadata": {},
   "outputs": [
    {
     "name": "stdout",
     "output_type": "stream",
     "text": [
      "Height of tree: 2\n"
     ]
    }
   ],
   "source": [
    "# Function to find the height of a tree using recursion (DFS)\n",
    "# Height of a tree = number of edges in the longest path from root to a leaf node\n",
    "\n",
    "def find_height(tree_nodes, node):\n",
    "    # Base Case: If current node has no children, it's a leaf → height = 0\n",
    "    if len(tree_nodes[node]) == 0:\n",
    "        return 0 \n",
    "\n",
    "    max_h = 0  # To track the maximum height among all child subtrees\n",
    "\n",
    "    # Recursive step: Check height of each child\n",
    "    for child in tree_nodes[node]:\n",
    "        child_h = find_height(tree_nodes, child)\n",
    "        max_h = max(max_h, child_h)  # Take the max among all children\n",
    "\n",
    "    return 1 + max_h  # Add 1 for the current level\n",
    "\n",
    "# ✅ Test Tree\n",
    "\n",
    "Tree_nodes = {\n",
    "    's4': ['s2', 's5'],\n",
    "    's2': ['s1', 's3'],\n",
    "    's5': [],\n",
    "    's1': [],\n",
    "    's3': []\n",
    "}\n",
    "\n",
    "# Height = 2 (Longest path: s4 → s2 → s1 or s3)\n",
    "print(\"Height of tree:\", find_height(Tree_nodes, 's4'))  # Output: 2\n"
   ]
  },
  {
   "cell_type": "markdown",
   "id": "33b00184",
   "metadata": {},
   "source": [
    "## Check Depth of a Node in a Tree\n",
    "\n",
    "Depth is defined as the number of edges from the root node to the given node."
   ]
  },
  {
   "cell_type": "code",
   "execution_count": 23,
   "id": "d13910ab",
   "metadata": {},
   "outputs": [
    {
     "name": "stdout",
     "output_type": "stream",
     "text": [
      "Depth of s14: 3\n",
      "Depth of s1: 0\n",
      "Depth of xyz: node not found or INVALID input\n"
     ]
    }
   ],
   "source": [
    "# Function to find the depth of a given node in a tree\n",
    "# Depth = number of edges from the root node ('s1') to the given node\n",
    "\n",
    "def find_depth(tree_node, node, curr=0):\n",
    "    # Base case: if the node is root itself, depth is 0\n",
    "    if node == \"s1\":  \n",
    "        return curr\n",
    "\n",
    "    # Recursive case: check each parent if it has the target node as child\n",
    "    for parent, children in tree_node.items():\n",
    "        if node in children:\n",
    "            # Recur by moving up to the parent and increasing depth\n",
    "            return find_depth(tree_node, parent, curr + 1)\n",
    "\n",
    "    # If node not found in any child list\n",
    "    return \"node not found or INVALID input\"\n",
    "\n",
    "\n",
    "# ✅ Test Tree\n",
    "Tree_nodes = {\n",
    "    's1': ['s2', 's3', 's4'],\n",
    "    's2': ['s5', 's6'],\n",
    "    's4': ['s7', 's8', 's9'],\n",
    "    's5': ['s10', 's11'],\n",
    "    's6': ['s12'],\n",
    "    's9': ['s13', 's14']\n",
    "}\n",
    "\n",
    "# ✅ Test Cases\n",
    "print(\"Depth of s14:\", find_depth(Tree_nodes, 's14'))   # Expected: 3\n",
    "print(\"Depth of s1:\", find_depth(Tree_nodes, 's1'))     # Expected: 0 (root)\n",
    "print(\"Depth of xyz:\", find_depth(Tree_nodes, 'xyz'))   # Expected: node not found or INVALID input\n"
   ]
  },
  {
   "cell_type": "markdown",
   "id": "f3dff1ca",
   "metadata": {},
   "source": [
    "## THANK YOU"
   ]
  },
  {
   "cell_type": "markdown",
   "id": "646eaa97",
   "metadata": {},
   "source": [
    "\n",
    "---\n",
    "\n",
    "## ✅ Summary\n",
    "\n",
    "In this notebook, we've covered a variety of fundamental graph and tree problems such as:\n",
    "- Checking adjacency and completeness of graphs\n",
    "- Verifying connectivity and tree structure\n",
    "- Identifying walks, trails, and paths\n",
    "- Constructing spanning trees\n",
    "- Counting leaf nodes and checking binary tree validity\n",
    "- Calculating height and depth of nodes in trees\n",
    "\n",
    "All solutions are manually crafted to build strong intuition.  \n",
    "Use this as a reference and a learning tool for understanding graph and tree basics.\n",
    "\n",
    "---\n"
   ]
  }
 ],
 "metadata": {
  "kernelspec": {
   "display_name": "Python 3",
   "language": "python",
   "name": "python3"
  },
  "language_info": {
   "codemirror_mode": {
    "name": "ipython",
    "version": 3
   },
   "file_extension": ".py",
   "mimetype": "text/x-python",
   "name": "python",
   "nbconvert_exporter": "python",
   "pygments_lexer": "ipython3",
   "version": "3.13.0"
  }
 },
 "nbformat": 4,
 "nbformat_minor": 5
}
